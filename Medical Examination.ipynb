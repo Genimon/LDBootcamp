{
 "cells": [
  {
   "cell_type": "code",
   "execution_count": null,
   "metadata": {},
   "outputs": [],
   "source": [
    "import pandas as pd\n",
    "import seaborn as sns\n",
    "import matplotlib.pyplot as plt\n",
    "import numpy as np\n",
    "import sys\n"
   ]
  },
  {
   "cell_type": "code",
   "execution_count": null,
   "metadata": {},
   "outputs": [],
   "source": [
    "# Import data\n",
    "df = pd.read_csv('medical_examination.csv')\n"
   ]
  },
  {
   "cell_type": "code",
   "execution_count": null,
   "metadata": {},
   "outputs": [],
   "source": [
    "# Add 'overweight' column\n",
    "overweight = (df['weight'] / ((df['height'] / 100)**2) > 25).astype(int)\n",
    "# print(overweight)\n",
    "df['overweight'] = overweight\n"
   ]
  },
  {
   "cell_type": "code",
   "execution_count": null,
   "metadata": {},
   "outputs": [],
   "source": [
    "\n",
    "# Normalize data by making 0 always good and 1 always bad. If the value of 'cholestorol' or 'gluc' is 1, make the value 0. If the value is more than 1, make the value 1.\n",
    "df['cholesterol'] = (df['cholesterol'] > 1).astype(int)\n",
    "# print(df['cholesterol'])\n",
    "df['gluc'] = (df['gluc'] > 1).astype(int)\n",
    "\n",
    "# print(df['gluc'])\n",
    "# print(df.info())\n"
   ]
  },
  {
   "cell_type": "code",
   "execution_count": null,
   "metadata": {},
   "outputs": [],
   "source": [
    "\n",
    "# Draw Categorical Plot\n",
    "def draw_cat_plot():\n",
    "    # Create DataFrame for cat plot using `pd.melt` using just the values from 'cholesterol', 'gluc', 'smoke', 'alco', 'active', and 'overweight'.\n",
    "    df_cat = pd.melt(\n",
    "        df,\n",
    "        id_vars=['cardio'],\n",
    "        value_vars=[\n",
    "            'active', 'alco', 'cholesterol', 'gluc', 'overweight', 'smoke'\n",
    "        ])\n",
    "    # print(df_cat)\n",
    "\n",
    "    # Group and reformat the data to split it by 'cardio'. Show the counts of each feature. You will have to rename one of the collumns for the catplot to work correctly.\n",
    "    df_cat = pd.DataFrame(\n",
    "        df_cat.groupby(['cardio', 'variable',\n",
    "                        'value'])['value'].count()).rename(columns={\n",
    "                            'value': 'total'\n",
    "                        }).reset_index()\n",
    "    # print(df_cat)\n"
   ]
  },
  {
   "cell_type": "code",
   "execution_count": null,
   "metadata": {},
   "outputs": [],
   "source": [
    "  # Draw the catplot with 'sns.catplot()'\n",
    "    g = sns.catplot(\n",
    "        x='variable',\n",
    "        y='total',\n",
    "        hue='value',\n",
    "        col='cardio',\n",
    "        data=df_cat,\n",
    "        kind='bar')\n",
    "\n",
    "    fig = g.fig\n",
    "\n",
    "    # Do not modify the next two lines\n",
    "    fig.savefig('catplot.png')\n",
    "    return fig\n",
    "\n",
    "\n",
    "# Draw Heat Map\n",
    "def draw_heat_map():\n",
    "    # Clean the data\n",
    "    df_heat = df[(df['ap_lo'] <= df['ap_hi'])\n",
    "                 & (df['height'] >= df['height'].quantile(0.025))\n",
    "                 & (df['height'] <= df['height'].quantile(0.975))\n",
    "                 & (df['weight'] >= df['weight'].quantile(0.025))\n",
    "                 & (df['weight'] <= df['weight'].quantile(0.975))]\n",
    "\n",
    "    # Calculate the correlation matrix\n",
    "    corr = df_heat.corr()\n",
    "\n",
    "    # Generate a mask for the upper triangle\n",
    "    mask = np.zeros_like(corr)\n",
    "    mask[np.triu_indices_from(mask)] = True\n",
    "\n",
    "    # Set up the matplotlib figure\n",
    "    fig, ax = plt.subplots(figsize=(12, 12))\n",
    "\n",
    "    # Draw the heatmap with 'sns.heatmap()'\n",
    "    ax = sns.heatmap(\n",
    "        corr,\n",
    "        linewidths=.5,\n",
    "        annot=True,\n",
    "        fmt='.1f',\n",
    "        mask=mask,\n",
    "        square=True,\n",
    "        center=0,\n",
    "        vmin=-0.1,\n",
    "        vmax=0.25,\n",
    "        cbar_kws={\n",
    "            'shrink': .45,\n",
    "            'format': '%.2f'\n",
    "        })\n"
   ]
  },
  {
   "cell_type": "code",
   "execution_count": null,
   "metadata": {},
   "outputs": [],
   "source": [
    "  # Do not modify the next two lines\n",
    "    fig.savefig('heatmap.png')\n",
    "    return fig"
   ]
  }
 ],
 "metadata": {
  "celltoolbar": "Attachments",
  "kernelspec": {
   "display_name": "Python 3",
   "language": "python",
   "name": "python3"
  },
  "language_info": {
   "codemirror_mode": {
    "name": "ipython",
    "version": 3
   },
   "file_extension": ".py",
   "mimetype": "text/x-python",
   "name": "python",
   "nbconvert_exporter": "python",
   "pygments_lexer": "ipython3",
   "version": "3.8.5"
  }
 },
 "nbformat": 4,
 "nbformat_minor": 4
}
