{
  "nbformat": 4,
  "nbformat_minor": 0,
  "metadata": {
    "kernelspec": {
      "display_name": "Python 3",
      "language": "python",
      "name": "python3"
    },
    "language_info": {
      "codemirror_mode": {
        "name": "ipython",
        "version": 3
      },
      "file_extension": ".py",
      "mimetype": "text/x-python",
      "name": "python",
      "nbconvert_exporter": "python",
      "pygments_lexer": "ipython3",
      "version": "3.6.5"
    },
    "colab": {
      "name": "fcc_book_recommendation_knn.ipynb",
      "provenance": [],
      "collapsed_sections": [],
      "include_colab_link": true
    }
  },
  "cells": [
    {
      "cell_type": "markdown",
      "metadata": {
        "id": "view-in-github",
        "colab_type": "text"
      },
      "source": [
        "<a href=\"https://colab.research.google.com/github/Genimon/LDBootcamp/blob/main/fcc_book_recommendation_knn.ipynb\" target=\"_parent\"><img src=\"https://colab.research.google.com/assets/colab-badge.svg\" alt=\"Open In Colab\"/></a>"
      ]
    },
    {
      "cell_type": "markdown",
      "metadata": {
        "id": "uGd4NYQX1Rf_"
      },
      "source": [
        "*Note: You are currently reading this using Google Colaboratory which is a cloud-hosted version of Jupyter Notebook. This is a document containing both text cells for documentation and runnable code cells. If you are unfamiliar with Jupyter Notebook, watch this 3-minute introduction before starting this challenge: https://www.youtube.com/watch?v=inN8seMm7UI*\n",
        "\n",
        "---\n",
        "\n",
        "In this challenge, you will create a book recommendation algorithm using **K-Nearest Neighbors**.\n",
        "\n",
        "You will use the [Book-Crossings dataset](http://www2.informatik.uni-freiburg.de/~cziegler/BX/). This dataset contains 1.1 million ratings (scale of 1-10) of 270,000 books by 90,000 users. \n",
        "\n",
        "After importing and cleaning the data, use `NearestNeighbors` from `sklearn.neighbors` to develop a model that shows books that are similar to a given book. The Nearest Neighbors algorithm measures distance to determine the “closeness” of instances.\n",
        "\n",
        "Create a function named `get_recommends` that takes a book title (from the dataset) as an argument and returns a list of 5 similar books with their distances from the book argument.\n",
        "\n",
        "This code:\n",
        "\n",
        "`get_recommends(\"The Queen of the Damned (Vampire Chronicles (Paperback))\")`\n",
        "\n",
        "should return:\n",
        "\n",
        "```\n",
        "[\n",
        "  'The Queen of the Damned (Vampire Chronicles (Paperback))',\n",
        "  [\n",
        "    ['Catch 22', 0.793983519077301], \n",
        "    ['The Witching Hour (Lives of the Mayfair Witches)', 0.7448656558990479], \n",
        "    ['Interview with the Vampire', 0.7345068454742432],\n",
        "    ['The Tale of the Body Thief (Vampire Chronicles (Paperback))', 0.5376338362693787],\n",
        "    ['The Vampire Lestat (Vampire Chronicles, Book II)', 0.5178412199020386]\n",
        "  ]\n",
        "]\n",
        "```\n",
        "\n",
        "Notice that the data returned from `get_recommends()` is a list. The first element in the list is the book title passed in to the function. The second element in the list is a list of five more lists. Each of the five lists contains a recommended book and the distance from the recommended book to the book passed in to the function.\n",
        "\n",
        "If you graph the dataset (optional), you will notice that most books are not rated frequently. To ensure statistical significance, remove from the dataset users with less than 200 ratings and books with less than 100 ratings.\n",
        "\n",
        "The first three cells import libraries you may need and the data to use. The final cell is for testing. Write all your code in between those cells."
      ]
    },
    {
      "cell_type": "code",
      "metadata": {
        "id": "Y1onB6kUvo4Z"
      },
      "source": [
        "# import libraries (you may add additional imports but you may not have to)\n",
        "import numpy as np\n",
        "import pandas as pd\n",
        "from scipy.sparse import csr_matrix\n",
        "from sklearn.neighbors import NearestNeighbors\n",
        "import matplotlib.pyplot as plt"
      ],
      "execution_count": 1,
      "outputs": []
    },
    {
      "cell_type": "code",
      "metadata": {
        "id": "iAQGqqO_vo4d",
        "colab": {
          "base_uri": "https://localhost:8080/"
        },
        "outputId": "e088238d-7528-480e-ddcb-41ad622cc5a5"
      },
      "source": [
        "# get data files\n",
        "!wget https://cdn.freecodecamp.org/project-data/books/book-crossings.zip\n",
        "\n",
        "!unzip book-crossings.zip\n",
        "\n",
        "books_filename = 'BX-Books.csv'\n",
        "ratings_filename = 'BX-Book-Ratings.csv'"
      ],
      "execution_count": 2,
      "outputs": [
        {
          "output_type": "stream",
          "text": [
            "--2021-05-01 08:14:59--  https://cdn.freecodecamp.org/project-data/books/book-crossings.zip\n",
            "Resolving cdn.freecodecamp.org (cdn.freecodecamp.org)... 104.26.2.33, 172.67.70.149, 104.26.3.33, ...\n",
            "Connecting to cdn.freecodecamp.org (cdn.freecodecamp.org)|104.26.2.33|:443... connected.\n",
            "HTTP request sent, awaiting response... 200 OK\n",
            "Length: 26085508 (25M) [application/zip]\n",
            "Saving to: ‘book-crossings.zip’\n",
            "\n",
            "book-crossings.zip  100%[===================>]  24.88M  97.8MB/s    in 0.3s    \n",
            "\n",
            "2021-05-01 08:15:00 (97.8 MB/s) - ‘book-crossings.zip’ saved [26085508/26085508]\n",
            "\n",
            "Archive:  book-crossings.zip\n",
            "  inflating: BX-Book-Ratings.csv     \n",
            "  inflating: BX-Books.csv            \n",
            "  inflating: BX-Users.csv            \n"
          ],
          "name": "stdout"
        }
      ]
    },
    {
      "cell_type": "code",
      "metadata": {
        "id": "NClILWOiEd6Q"
      },
      "source": [
        "# import csv data into dataframes\n",
        "df_books = pd.read_csv(\n",
        "    books_filename,\n",
        "    encoding = \"ISO-8859-1\",\n",
        "    sep=\";\",\n",
        "    header=0,\n",
        "    names=['isbn', 'title', 'author'],\n",
        "    usecols=['isbn', 'title', 'author'],\n",
        "    dtype={'isbn': 'str', 'title': 'str', 'author': 'str'})\n",
        "\n",
        "df_ratings = pd.read_csv(\n",
        "    ratings_filename,\n",
        "    encoding = \"ISO-8859-1\",\n",
        "    sep=\";\",\n",
        "    header=0,\n",
        "    names=['user', 'isbn', 'rating'],\n",
        "    usecols=['user', 'isbn', 'rating'],\n",
        "    dtype={'user': 'int32', 'isbn': 'str', 'rating': 'float32'})"
      ],
      "execution_count": 3,
      "outputs": []
    },
    {
      "cell_type": "code",
      "metadata": {
        "id": "xAcXjkCFCh0A"
      },
      "source": [
        "# add your code here - consider creating a new cell for each section of code"
      ],
      "execution_count": 4,
      "outputs": []
    },
    {
      "cell_type": "code",
      "metadata": {
        "colab": {
          "base_uri": "https://localhost:8080/"
        },
        "id": "F2zCCkOx_rPr",
        "outputId": "e47217c7-d3d6-41ab-9f7f-2b8790b66d1d"
      },
      "source": [
        "df_books\n",
        "print(df_books.columns)\n",
        "print(df_ratings.columns)\n",
        "print(df_ratings.head)"
      ],
      "execution_count": 5,
      "outputs": [
        {
          "output_type": "stream",
          "text": [
            "Index(['isbn', 'title', 'author'], dtype='object')\n",
            "Index(['user', 'isbn', 'rating'], dtype='object')\n",
            "<bound method NDFrame.head of            user         isbn  rating\n",
            "0        276725   034545104X     0.0\n",
            "1        276726   0155061224     5.0\n",
            "2        276727   0446520802     0.0\n",
            "3        276729   052165615X     3.0\n",
            "4        276729   0521795028     6.0\n",
            "...         ...          ...     ...\n",
            "1149775  276704   1563526298     9.0\n",
            "1149776  276706   0679447156     0.0\n",
            "1149777  276709   0515107662    10.0\n",
            "1149778  276721   0590442449    10.0\n",
            "1149779  276723  05162443314     8.0\n",
            "\n",
            "[1149780 rows x 3 columns]>\n"
          ],
          "name": "stdout"
        }
      ]
    },
    {
      "cell_type": "code",
      "metadata": {
        "colab": {
          "base_uri": "https://localhost:8080/"
        },
        "id": "RXEZV2Io_sE0",
        "outputId": "865a3c40-4d24-431d-edc3-9244462abc6d"
      },
      "source": [
        "#merge data sets\n",
        "df = pd.merge(df_ratings, df_books, on='isbn')\n",
        "print(df)"
      ],
      "execution_count": 6,
      "outputs": [
        {
          "output_type": "stream",
          "text": [
            "           user  ...           author\n",
            "0        276725  ...       M. J. Rose\n",
            "1          2313  ...       M. J. Rose\n",
            "2          6543  ...       M. J. Rose\n",
            "3          8680  ...       M. J. Rose\n",
            "4         10314  ...       M. J. Rose\n",
            "...         ...  ...              ...\n",
            "1031170  276688  ...    Douglas Adams\n",
            "1031171  276688  ...  Shirley Kennett\n",
            "1031172  276690  ...     Debbie Dadey\n",
            "1031173  276704  ...   Judith Freeman\n",
            "1031174  276704  ...      Paul Sloane\n",
            "\n",
            "[1031175 rows x 5 columns]\n"
          ],
          "name": "stdout"
        }
      ]
    },
    {
      "cell_type": "code",
      "metadata": {
        "colab": {
          "base_uri": "https://localhost:8080/"
        },
        "id": "Je0BdvtT_r-N",
        "outputId": "ec0dce1e-9e76-4e0b-c606-d2ad9e400532"
      },
      "source": [
        "#remove users that have given less the 200 ratings\n",
        "vc = df['user'].value_counts()\n",
        "df = df[df['user'].isin(vc[vc<200].index)]\n",
        "\n",
        "# remove books that have been rated less the 100 times.\n",
        "vc = df['title'].value_counts()\n",
        "df = df[df['title'].isin(vc[vc>100].index)]\n",
        "\n",
        "print(df)"
      ],
      "execution_count": 7,
      "outputs": [
        {
          "output_type": "stream",
          "text": [
            "           user  ...            author\n",
            "62       276727  ...   Nicholas Sparks\n",
            "64          638  ...   Nicholas Sparks\n",
            "67         8253  ...   Nicholas Sparks\n",
            "68         9939  ...   Nicholas Sparks\n",
            "70        12589  ...   Nicholas Sparks\n",
            "...         ...  ...               ...\n",
            "1023416  259901  ...  J. R. R. Tolkien\n",
            "1023516  260429  ...        Cyril Hare\n",
            "1024344  262186  ...     Aldous Huxley\n",
            "1025381  264149  ...     George Orwell\n",
            "1025382  274282  ...     George Orwell\n",
            "\n",
            "[80786 rows x 5 columns]\n"
          ],
          "name": "stdout"
        }
      ]
    },
    {
      "cell_type": "code",
      "metadata": {
        "id": "-OJKm90IAjGd"
      },
      "source": [
        "piv = df.pivot(index='title', columns='user', values='rating').fillna(0)"
      ],
      "execution_count": 13,
      "outputs": []
    },
    {
      "cell_type": "code",
      "metadata": {
        "id": "Vm96-fxn_r6s"
      },
      "source": [
        "df = df_ratings\n",
        "\n",
        "counts1 = df['user'].value_counts()\n",
        "counts2 = df['isbn'].value_counts()\n",
        "\n",
        "df = df[~df['user'].isin(counts1[counts1 < 200].index)]\n",
        "df = df[~df['isbn'].isin(counts2[counts2 < 100].index)]\n",
        "\n",
        "df = pd.merge(right=df, left = df_books, on=\"isbn\")\n",
        "\n",
        "df.drop_duplicates([\"title\", \"user\"], inplace=True)\n",
        "\n",
        "piv.fillna(0,inplace=True) \n"
      ],
      "execution_count": 14,
      "outputs": []
    },
    {
      "cell_type": "code",
      "metadata": {
        "id": "rPtYEdA6_r4o"
      },
      "source": [
        "#A data frame matrix is made with csr_matrix\n",
        "\n",
        "\n",
        "#Making the model"
      ],
      "execution_count": 16,
      "outputs": []
    },
    {
      "cell_type": "code",
      "metadata": {
        "colab": {
          "base_uri": "https://localhost:8080/"
        },
        "id": "UxtZwHkf_rL5",
        "outputId": "2efcff8a-dff7-4208-eb81-ee8c132888c9"
      },
      "source": [
        "df_matrix = csr_matrix(piv.values)\n",
        "model_knn = NearestNeighbors(algorithm='auto', metric = 'cosine',n_neighbors=5)\n",
        "model_knn.fit(df_matrix)"
      ],
      "execution_count": 17,
      "outputs": [
        {
          "output_type": "execute_result",
          "data": {
            "text/plain": [
              "NearestNeighbors(algorithm='auto', leaf_size=30, metric='cosine',\n",
              "                 metric_params=None, n_jobs=None, n_neighbors=5, p=2,\n",
              "                 radius=1.0)"
            ]
          },
          "metadata": {
            "tags": []
          },
          "execution_count": 17
        }
      ]
    },
    {
      "cell_type": "code",
      "metadata": {
        "id": "pFFZZUdN_rI-"
      },
      "source": [
        "titles = list(piv.index.values)\n",
        "X = piv.values\n",
        "\n",
        "#m = np.mean(X)\n",
        "#X=X-m\n",
        "\n",
        "def title_2_index(title):\n",
        "  ind = titles.index(title)\n",
        "  return X[ind,:]\n",
        "\n",
        "def index_2_title(ind):\n",
        "  return titles[ind]\n",
        "\n",
        "nn = NearestNeighbors(metric=\"cosine\",algorithm=\"brute\", p=2)\n",
        "\n",
        "nn.fit(X)\n",
        "\n",
        "row = title_2_index(\"Where the Heart Is (Oprah's Book Club (Paperback))\")\n",
        "\n",
        "dist, inds = nn.kneighbors(np.reshape(row,[1,-1]),len(titles),True)"
      ],
      "execution_count": 18,
      "outputs": []
    },
    {
      "cell_type": "code",
      "metadata": {
        "id": "f5ZUd-L1SQz7"
      },
      "source": [
        "# function to return recommended books - this will be tested\n",
        "def get_recommends(book = \"\"):\n",
        "     \n",
        "    # Get index\n",
        "    query_index = piv.index.get_loc(book)\n",
        "    #use model nearest neighbors.\n",
        "    distances, indices = model_knn.kneighbors(piv.iloc[query_index,:].values.reshape(1, -1), n_neighbors= 8)\n",
        "    \n",
        "    recommended_books = []\n",
        "    for x in range(1,6):\n",
        "        bookrecommended = [piv.index[indices.flatten()[x]], distances.flatten()[x]]\n",
        "        recommended_books.append(bookrecommended)\n",
        "    recommended_books = [book, recommended_books]\n",
        "    return recommended_books"
      ],
      "execution_count": 19,
      "outputs": []
    },
    {
      "cell_type": "markdown",
      "metadata": {
        "id": "eat9A2TKawHU"
      },
      "source": [
        "Use the cell below to test your function. The `test_book_recommendation()` function will inform you if you passed the challenge or need to keep trying."
      ]
    },
    {
      "cell_type": "code",
      "metadata": {
        "id": "jd2SLCh8oxMh",
        "colab": {
          "base_uri": "https://localhost:8080/"
        },
        "outputId": "c11c2095-6a21-4d96-ac50-15963c09b6cb"
      },
      "source": [
        "books = get_recommends(\"Where the Heart Is (Oprah's Book Club (Paperback))\")\n",
        "print(books)\n",
        "\n",
        "def test_book_recommendation():\n",
        "  test_pass = True\n",
        "  recommends = get_recommends(\"Where the Heart Is (Oprah's Book Club (Paperback))\")\n",
        "  if recommends[0] != \"Where the Heart Is (Oprah's Book Club (Paperback))\":\n",
        "    test_pass = False\n",
        "  recommended_books = [\"I'll Be Seeing You\", 'The Weight of Water', 'The Surgeon', 'I Know This Much Is True']\n",
        "  recommended_books_dist = [0.8, 0.77, 0.77, 0.77]\n",
        "  for i in range(2): \n",
        "    if recommends[1][i][0] not in recommended_books:\n",
        "      test_pass = False\n",
        "    if abs(recommends[1][i][1] - recommended_books_dist[i]) >= 0.05:\n",
        "      test_pass = False\n",
        "  if test_pass:\n",
        "    print(\"You passed the challenge! 🎉🎉🎉🎉🎉\")\n",
        "  else:\n",
        "    print(\"You havn't passed yet. Keep trying!\")\n",
        "\n",
        "test_book_recommendation()"
      ],
      "execution_count": 20,
      "outputs": [
        {
          "output_type": "stream",
          "text": [
            "[\"Where the Heart Is (Oprah's Book Club (Paperback))\", [['The Lovely Bones: A Novel', 0.7234864], ['I Know This Much Is True', 0.7677075], ['The Surgeon', 0.7699411], ['The Weight of Water', 0.77085835], [\"I'll Be Seeing You\", 0.8016211]]]\n",
            "You havn't passed yet. Keep trying!\n"
          ],
          "name": "stdout"
        }
      ]
    }
  ]
}