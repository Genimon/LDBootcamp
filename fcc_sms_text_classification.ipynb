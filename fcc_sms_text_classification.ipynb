{
  "nbformat": 4,
  "nbformat_minor": 0,
  "metadata": {
    "colab": {
      "name": "fcc_sms_text_classification.ipynb",
      "private_outputs": true,
      "provenance": [],
      "collapsed_sections": [],
      "include_colab_link": true
    },
    "kernelspec": {
      "display_name": "Python 3",
      "name": "python3"
    }
  },
  "cells": [
    {
      "cell_type": "markdown",
      "metadata": {
        "id": "view-in-github",
        "colab_type": "text"
      },
      "source": [
        "<a href=\"https://colab.research.google.com/github/Genimon/LDBootcamp/blob/main/fcc_sms_text_classification.ipynb\" target=\"_parent\"><img src=\"https://colab.research.google.com/assets/colab-badge.svg\" alt=\"Open In Colab\"/></a>"
      ]
    },
    {
      "cell_type": "markdown",
      "metadata": {
        "id": "Eg62Pmz3o83v"
      },
      "source": [
        "*Note: You are currently reading this using Google Colaboratory which is a cloud-hosted version of Jupyter Notebook. This is a document containing both text cells for documentation and runnable code cells. If you are unfamiliar with Jupyter Notebook, watch this 3-minute introduction before starting this challenge: https://www.youtube.com/watch?v=inN8seMm7UI*\n",
        "\n",
        "---\n",
        "\n",
        "In this challenge, you need to create a machine learning model that will classify SMS messages as either \"ham\" or \"spam\". A \"ham\" message is a normal message sent by a friend. A \"spam\" message is an advertisement or a message sent by a company.\n",
        "\n",
        "You should create a function called `predict_message` that takes a message string as an argument and returns a list. The first element in the list should be a number between zero and one that indicates the likeliness of \"ham\" (0) or \"spam\" (1). The second element in the list should be the word \"ham\" or \"spam\", depending on which is most likely.\n",
        "\n",
        "For this challenge, you will use the [SMS Spam Collection dataset](http://www.dt.fee.unicamp.br/~tiago/smsspamcollection/). The dataset has already been grouped into train data and test data.\n",
        "\n",
        "The first two cells import the libraries and data. The final cell tests your model and function. Add your code in between these cells.\n"
      ]
    },
    {
      "cell_type": "code",
      "metadata": {
        "id": "8RZOuS9LWQvv"
      },
      "source": [
        "# import libraries\n",
        "try:\n",
        "  # %tensorflow_version only exists in Colab.\n",
        "  !pip install tf-nightly\n",
        "except Exception:\n",
        "  pass\n",
        "import tensorflow as tf\n",
        "import pandas as pd\n",
        "from tensorflow import keras\n",
        "!pip install tensorflow-datasets\n",
        "import tensorflow_datasets as tfds\n",
        "import numpy as np\n",
        "import matplotlib.pyplot as plt\n",
        "\n",
        "print(tf.__version__)"
      ],
      "execution_count": null,
      "outputs": []
    },
    {
      "cell_type": "code",
      "metadata": {
        "id": "lMHwYXHXCar3"
      },
      "source": [
        "# get data files\n",
        "#!wget https://cdn.freecodecamp.org/project-data/sms/train-data.tsv\n",
        "#!wget https://cdn.freecodecamp.org/project-data/sms/valid-data.tsv\n",
        "\n",
        "!wget  https://raw.githubusercontent.com/beaucarnes/fcc_python_curriculum/master/sms/train-data.tsv\n",
        "!wget  https://raw.githubusercontent.com/beaucarnes/fcc_python_curriculum/master/sms/valid-data.tsv\n",
        "\n",
        "train_file_path = pd.read_csv(\"train-data.tsv\", delimiter = '\\t', names=['label', 'message'])\n",
        "test_file_path = pd.read_csv(\"valid-data.tsv\", delimiter = '\\t', names=['label', 'message'])"
      ],
      "execution_count": null,
      "outputs": []
    },
    {
      "cell_type": "code",
      "metadata": {
        "id": "g_h508FEClxO"
      },
      "source": [
        "train_file_path.head()"
      ],
      "execution_count": null,
      "outputs": []
    },
    {
      "cell_type": "code",
      "metadata": {
        "id": "x4YhXNmJOdsm"
      },
      "source": [
        ""
      ],
      "execution_count": null,
      "outputs": []
    },
    {
      "cell_type": "code",
      "metadata": {
        "id": "zfkWf3S7NY40"
      },
      "source": [
        "msg_ham = train_file_path[train_file_path.label == 'ham']\n",
        "msg_spam = train_file_path[train_file_path.label == 'spam']\n",
        "\n",
        "# Create a numpy list to visualise using wordcloud\n",
        "\n",
        "msg_ham_text = \" \".join(msg_ham.message.to_numpy().tolist())\n",
        "msg_spam_text = \" \".join(msg_spam.message.to_numpy().tolist())"
      ],
      "execution_count": null,
      "outputs": []
    },
    {
      "cell_type": "code",
      "metadata": {
        "id": "j3zHnYOTNY2X"
      },
      "source": [
        "from wordcloud import WordCloud, STOPWORDS, ImageColorGenerator\n",
        "\n",
        "msg_ham_cloud = WordCloud(width= 520, height= 260, stopwords= STOPWORDS, max_font_size=50, background_color= 'black', colormap= 'Blues').generate(msg_ham_text)\n",
        "plt.figure(figsize=(16,10))\n",
        "plt.imshow(msg_ham_cloud, interpolation='bilinear')\n",
        "plt.axis('off')\n",
        "plt.show()"
      ],
      "execution_count": null,
      "outputs": []
    },
    {
      "cell_type": "code",
      "metadata": {
        "id": "sSoLtyKFNYzi"
      },
      "source": [
        "msg_spam_cloud = WordCloud(width= 520, height= 260, stopwords= STOPWORDS, max_font_size=50, background_color= 'black', colormap= 'Blues').generate(msg_spam_text)\n",
        "plt.figure(figsize=(16,10))\n",
        "plt.imshow(msg_spam_cloud, interpolation='bilinear')\n",
        "plt.axis('off')\n",
        "plt.show()"
      ],
      "execution_count": null,
      "outputs": []
    },
    {
      "cell_type": "code",
      "metadata": {
        "id": "aBEhv4KuNYvB"
      },
      "source": [
        "#Get the shape of the ham messages and spam messages\n",
        "\n",
        "\n",
        "ham_msg_df = msg_ham.sample(n= len(msg_spam), random_state= 42)\n",
        "spam_msg_df = msg_spam\n",
        "print(ham_msg_df.shape, spam_msg_df.shape)"
      ],
      "execution_count": null,
      "outputs": []
    },
    {
      "cell_type": "code",
      "metadata": {
        "id": "P5ntouh-NYsT"
      },
      "source": [
        "msg_df = ham_msg_df.append(spam_msg_df).reset_index(drop=True)"
      ],
      "execution_count": null,
      "outputs": []
    },
    {
      "cell_type": "code",
      "metadata": {
        "id": "qkVjMKHbNYo1"
      },
      "source": [
        "#mapping the word 'ham' and 'spam' to 0 and 1 respectively\n",
        "\n",
        "msg_df['label']= msg_df['label'].map({'ham':0, 'spam': 1})"
      ],
      "execution_count": null,
      "outputs": []
    },
    {
      "cell_type": "code",
      "metadata": {
        "id": "uiLq0gW-NYmh"
      },
      "source": [
        "msg1= msg_df['message'].values\n",
        "msg2= msg_df['message'].values"
      ],
      "execution_count": null,
      "outputs": []
    },
    {
      "cell_type": "code",
      "metadata": {
        "id": "Te0Lg04JNYj7"
      },
      "source": [
        "msg1"
      ],
      "execution_count": null,
      "outputs": []
    },
    {
      "cell_type": "code",
      "metadata": {
        "id": "y8sulsk3NYhU"
      },
      "source": [
        "from tensorflow.keras.preprocessing.text import Tokenizer\n",
        "from tensorflow.keras.preprocessing.sequence import pad_sequences\n",
        "\n",
        "tokenizer = Tokenizer(num_words= 50, char_level=False, oov_token= '<OOV>')\n",
        "tokenizer.fit_on_texts(msg_df['message'])"
      ],
      "execution_count": null,
      "outputs": []
    },
    {
      "cell_type": "code",
      "metadata": {
        "id": "VLcucsHyNYd3"
      },
      "source": [
        "word_index = tokenizer.word_index\n",
        "word_index"
      ],
      "execution_count": null,
      "outputs": []
    },
    {
      "cell_type": "code",
      "metadata": {
        "id": "1TxQCJtVNYZ3"
      },
      "source": [
        "tot_words = len(word_index)\n",
        "print('There are %s unique tokens in training data. ' %tot_words)"
      ],
      "execution_count": null,
      "outputs": []
    },
    {
      "cell_type": "code",
      "metadata": {
        "id": "11TZU955NXar"
      },
      "source": [
        "training_sequences = tokenizer.texts_to_sequences(msg_df['message'])\n",
        "training_padded = pad_sequences(training_sequences, maxlen= 70, padding= 'post', truncating= 'post')\n",
        "\n",
        "testing_sequences = tokenizer.texts_to_sequences(test_file_path['message'])\n",
        "testing_padded = pad_sequences(training_sequences, maxlen= 70, padding= 'post', truncating= 'post')"
      ],
      "execution_count": null,
      "outputs": []
    },
    {
      "cell_type": "code",
      "metadata": {
        "id": "k1LucHXlNXXS"
      },
      "source": [
        "print(training_padded[0])"
      ],
      "execution_count": null,
      "outputs": []
    },
    {
      "cell_type": "code",
      "metadata": {
        "id": "iMcyD99oNXQ2"
      },
      "source": [
        "print('Shape of Training Tensor: ', training_padded.shape)\n",
        "print('Shape of Testing Tensor: ', testing_padded.shape)"
      ],
      "execution_count": null,
      "outputs": []
    },
    {
      "cell_type": "code",
      "metadata": {
        "id": "zOMKywn4zReN"
      },
      "source": [
        "vocab_size = len(tokenizer.word_index) + 1\n",
        "embedding_dim = 24\n",
        "drop_value = 0.2\n",
        "n_dense = 24"
      ],
      "execution_count": null,
      "outputs": []
    },
    {
      "cell_type": "code",
      "metadata": {
        "id": "cdenIWeBQHPE"
      },
      "source": [
        "from tensorflow.keras.callbacks import EarlyStopping\n",
        "from tensorflow.keras.models import Sequential\n",
        "from tensorflow.keras.layers import Embedding, GlobalAveragePooling1D, Dense, Dropout, LSTM, Bidirectional\n",
        "\n",
        "\n",
        "model = Sequential()\n",
        "model.add(Embedding(vocab_size, embedding_dim, input_length= 70))\n",
        "model.add(GlobalAveragePooling1D())\n",
        "model.add(Dense(24, activation= 'relu'))\n",
        "model.add(Dropout(drop_value))\n",
        "model.add(Dense(1, activation= 'sigmoid'))\n",
        "\n",
        "\n",
        "model.compile(\n",
        "    loss= 'binary_crossentropy', \n",
        "    optimizer= 'adam', \n",
        "    metrics= ['accuracy'])"
      ],
      "execution_count": null,
      "outputs": []
    },
    {
      "cell_type": "code",
      "metadata": {
        "id": "3VUwj2GwQHJx"
      },
      "source": [
        "model.summary()"
      ],
      "execution_count": null,
      "outputs": []
    },
    {
      "cell_type": "code",
      "metadata": {
        "id": "PNF4KNFkQHGf"
      },
      "source": [
        "early_stop = EarlyStopping(monitor= 'val_loss', patience=3)\n",
        "\n",
        "history = model.fit(training_padded, \n",
        "                    msg_df['label'], \n",
        "                   epochs= 30, \n",
        "                   validation_data= (testing_padded, test_file_path['label']),\n",
        "                   callbacks= [early_stop], \n",
        "                   verbose= 2)"
      ],
      "execution_count": null,
      "outputs": []
    },
    {
      "cell_type": "code",
      "metadata": {
        "id": "cRp6NbxuQG70"
      },
      "source": [
        ""
      ],
      "execution_count": null,
      "outputs": []
    },
    {
      "cell_type": "code",
      "metadata": {
        "id": "J9tD9yACG6M9"
      },
      "source": [
        "# function to predict messages based on model\n",
        "# (should return list containing prediction and label, ex. [0.008318834938108921, 'ham'])\n",
        "def predict_message(pred_text):\n",
        "\n",
        "  new_seq = tokenizer.texts_to_sequences([pred_text])\n",
        "    pad = pad_sequences(new_seq, maxlen= max_len, padding= padding_type, truncating= trunc_type)\n",
        "    \n",
        "    answer = model.predict(pad)\n",
        "    \n",
        "    prediction= \"\"\n",
        "    if answer[0] * 100 < 5:\n",
        "        prediction = 'ham'\n",
        "    else:\n",
        "        prediction = 'spam'\n",
        "\n",
        "  return (prediction)\n",
        "\n",
        "pred_text = \"how are you doing today?\"\n",
        "\n",
        "prediction = predict_message(pred_text)\n",
        "print(prediction)"
      ],
      "execution_count": null,
      "outputs": []
    },
    {
      "cell_type": "code",
      "metadata": {
        "id": "Dxotov85SjsC"
      },
      "source": [
        "# Run this cell to test your function and model. Do not modify contents.\n",
        "def test_predictions():\n",
        "  test_messages = [\"how are you doing today\",\n",
        "                   \"sale today! to stop texts call 98912460324\",\n",
        "                   \"i dont want to go. can we try it a different day? available sat\",\n",
        "                   \"our new mobile video service is live. just install on your phone to start watching.\",\n",
        "                   \"you have won £1000 cash! call to claim your prize.\",\n",
        "                   \"i'll bring it tomorrow. don't forget the milk.\",\n",
        "                   \"wow, is your arm alright. that happened to me one time too\"\n",
        "                  ]\n",
        "\n",
        "  test_answers = [\"ham\", \"spam\", \"ham\", \"spam\", \"spam\", \"ham\", \"ham\"]\n",
        "  passed = True\n",
        "\n",
        "  for msg, ans in zip(test_messages, test_answers):\n",
        "    prediction = predict_message(msg)\n",
        "    if prediction[1] != ans:\n",
        "      passed = False\n",
        "\n",
        "  if passed:\n",
        "    print(\"You passed the challenge. Great job!\")\n",
        "  else:\n",
        "    print(\"You haven't passed yet. Keep trying.\")\n",
        "\n",
        "test_predictions()\n"
      ],
      "execution_count": null,
      "outputs": []
    }
  ]
}